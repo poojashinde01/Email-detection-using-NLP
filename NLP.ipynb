{
 "cells": [
  {
   "cell_type": "markdown",
   "id": "51cf773f",
   "metadata": {},
   "source": [
    "# Natural Language Processing"
   ]
  },
  {
   "cell_type": "markdown",
   "id": "82a5dbbc",
   "metadata": {},
   "source": [
    "## Importing Libraries"
   ]
  },
  {
   "cell_type": "code",
   "execution_count": 1,
   "id": "87b76a5a",
   "metadata": {},
   "outputs": [],
   "source": [
    "import numpy as np\n",
    "import matplotlib.pyplot as plt\n",
    "import pandas as pd"
   ]
  },
  {
   "cell_type": "code",
   "execution_count": 2,
   "id": "9e20c350",
   "metadata": {},
   "outputs": [],
   "source": [
    "dataset=pd.read_csv(\"SMS_mail.csv\",encoding= 'unicode_escape')"
   ]
  },
  {
   "cell_type": "code",
   "execution_count": 3,
   "id": "a444b89d",
   "metadata": {},
   "outputs": [
    {
     "data": {
      "text/html": [
       "<div>\n",
       "<style scoped>\n",
       "    .dataframe tbody tr th:only-of-type {\n",
       "        vertical-align: middle;\n",
       "    }\n",
       "\n",
       "    .dataframe tbody tr th {\n",
       "        vertical-align: top;\n",
       "    }\n",
       "\n",
       "    .dataframe thead th {\n",
       "        text-align: right;\n",
       "    }\n",
       "</style>\n",
       "<table border=\"1\" class=\"dataframe\">\n",
       "  <thead>\n",
       "    <tr style=\"text-align: right;\">\n",
       "      <th></th>\n",
       "      <th>S. No.</th>\n",
       "      <th>Message_body</th>\n",
       "      <th>Label</th>\n",
       "    </tr>\n",
       "  </thead>\n",
       "  <tbody>\n",
       "    <tr>\n",
       "      <th>0</th>\n",
       "      <td>1</td>\n",
       "      <td>Rofl. Its true to its name</td>\n",
       "      <td>Non-Spam</td>\n",
       "    </tr>\n",
       "    <tr>\n",
       "      <th>1</th>\n",
       "      <td>2</td>\n",
       "      <td>The guy did some bitching but I acted like i'd...</td>\n",
       "      <td>Non-Spam</td>\n",
       "    </tr>\n",
       "    <tr>\n",
       "      <th>2</th>\n",
       "      <td>3</td>\n",
       "      <td>Pity, * was in mood for that. So...any other s...</td>\n",
       "      <td>Non-Spam</td>\n",
       "    </tr>\n",
       "    <tr>\n",
       "      <th>3</th>\n",
       "      <td>4</td>\n",
       "      <td>Will ü b going to esplanade fr home?</td>\n",
       "      <td>Non-Spam</td>\n",
       "    </tr>\n",
       "    <tr>\n",
       "      <th>4</th>\n",
       "      <td>5</td>\n",
       "      <td>This is the 2nd time we have tried 2 contact u...</td>\n",
       "      <td>Spam</td>\n",
       "    </tr>\n",
       "  </tbody>\n",
       "</table>\n",
       "</div>"
      ],
      "text/plain": [
       "   S. No.                                       Message_body     Label\n",
       "0       1                         Rofl. Its true to its name  Non-Spam\n",
       "1       2  The guy did some bitching but I acted like i'd...  Non-Spam\n",
       "2       3  Pity, * was in mood for that. So...any other s...  Non-Spam\n",
       "3       4               Will ü b going to esplanade fr home?  Non-Spam\n",
       "4       5  This is the 2nd time we have tried 2 contact u...      Spam"
      ]
     },
     "execution_count": 3,
     "metadata": {},
     "output_type": "execute_result"
    }
   ],
   "source": [
    "dataset.head()"
   ]
  },
  {
   "cell_type": "code",
   "execution_count": 4,
   "id": "07b3f2b8",
   "metadata": {},
   "outputs": [
    {
     "name": "stdout",
     "output_type": "stream",
     "text": [
      "<class 'pandas.core.frame.DataFrame'>\n",
      "RangeIndex: 957 entries, 0 to 956\n",
      "Data columns (total 3 columns):\n",
      " #   Column        Non-Null Count  Dtype \n",
      "---  ------        --------------  ----- \n",
      " 0   S. No.        957 non-null    int64 \n",
      " 1   Message_body  957 non-null    object\n",
      " 2   Label         957 non-null    object\n",
      "dtypes: int64(1), object(2)\n",
      "memory usage: 22.6+ KB\n"
     ]
    }
   ],
   "source": [
    "dataset.info()"
   ]
  },
  {
   "cell_type": "code",
   "execution_count": 5,
   "id": "ff9df428",
   "metadata": {},
   "outputs": [
    {
     "data": {
      "text/plain": [
       "S. No.          0\n",
       "Message_body    0\n",
       "Label           0\n",
       "dtype: int64"
      ]
     },
     "execution_count": 5,
     "metadata": {},
     "output_type": "execute_result"
    }
   ],
   "source": [
    "dataset.isnull().sum()"
   ]
  },
  {
   "cell_type": "code",
   "execution_count": 6,
   "id": "bea70306",
   "metadata": {},
   "outputs": [],
   "source": [
    "dataset[\"Label\"]=dataset[\"Label\"].map({'Non-Spam':0,'Spam':1})"
   ]
  },
  {
   "cell_type": "code",
   "execution_count": 7,
   "id": "78fc5624",
   "metadata": {},
   "outputs": [
    {
     "data": {
      "text/html": [
       "<div>\n",
       "<style scoped>\n",
       "    .dataframe tbody tr th:only-of-type {\n",
       "        vertical-align: middle;\n",
       "    }\n",
       "\n",
       "    .dataframe tbody tr th {\n",
       "        vertical-align: top;\n",
       "    }\n",
       "\n",
       "    .dataframe thead th {\n",
       "        text-align: right;\n",
       "    }\n",
       "</style>\n",
       "<table border=\"1\" class=\"dataframe\">\n",
       "  <thead>\n",
       "    <tr style=\"text-align: right;\">\n",
       "      <th></th>\n",
       "      <th>S. No.</th>\n",
       "      <th>Message_body</th>\n",
       "      <th>Label</th>\n",
       "    </tr>\n",
       "  </thead>\n",
       "  <tbody>\n",
       "    <tr>\n",
       "      <th>0</th>\n",
       "      <td>1</td>\n",
       "      <td>Rofl. Its true to its name</td>\n",
       "      <td>0</td>\n",
       "    </tr>\n",
       "    <tr>\n",
       "      <th>1</th>\n",
       "      <td>2</td>\n",
       "      <td>The guy did some bitching but I acted like i'd...</td>\n",
       "      <td>0</td>\n",
       "    </tr>\n",
       "    <tr>\n",
       "      <th>2</th>\n",
       "      <td>3</td>\n",
       "      <td>Pity, * was in mood for that. So...any other s...</td>\n",
       "      <td>0</td>\n",
       "    </tr>\n",
       "    <tr>\n",
       "      <th>3</th>\n",
       "      <td>4</td>\n",
       "      <td>Will ü b going to esplanade fr home?</td>\n",
       "      <td>0</td>\n",
       "    </tr>\n",
       "    <tr>\n",
       "      <th>4</th>\n",
       "      <td>5</td>\n",
       "      <td>This is the 2nd time we have tried 2 contact u...</td>\n",
       "      <td>1</td>\n",
       "    </tr>\n",
       "    <tr>\n",
       "      <th>...</th>\n",
       "      <td>...</td>\n",
       "      <td>...</td>\n",
       "      <td>...</td>\n",
       "    </tr>\n",
       "    <tr>\n",
       "      <th>952</th>\n",
       "      <td>953</td>\n",
       "      <td>hows my favourite person today? r u workin har...</td>\n",
       "      <td>0</td>\n",
       "    </tr>\n",
       "    <tr>\n",
       "      <th>953</th>\n",
       "      <td>954</td>\n",
       "      <td>How much you got for cleaning</td>\n",
       "      <td>0</td>\n",
       "    </tr>\n",
       "    <tr>\n",
       "      <th>954</th>\n",
       "      <td>955</td>\n",
       "      <td>Sorry da. I gone mad so many pending works wha...</td>\n",
       "      <td>0</td>\n",
       "    </tr>\n",
       "    <tr>\n",
       "      <th>955</th>\n",
       "      <td>956</td>\n",
       "      <td>Wat time ü finish?</td>\n",
       "      <td>0</td>\n",
       "    </tr>\n",
       "    <tr>\n",
       "      <th>956</th>\n",
       "      <td>957</td>\n",
       "      <td>Just glad to be talking to you.</td>\n",
       "      <td>0</td>\n",
       "    </tr>\n",
       "  </tbody>\n",
       "</table>\n",
       "<p>957 rows × 3 columns</p>\n",
       "</div>"
      ],
      "text/plain": [
       "     S. No.                                       Message_body  Label\n",
       "0         1                         Rofl. Its true to its name      0\n",
       "1         2  The guy did some bitching but I acted like i'd...      0\n",
       "2         3  Pity, * was in mood for that. So...any other s...      0\n",
       "3         4               Will ü b going to esplanade fr home?      0\n",
       "4         5  This is the 2nd time we have tried 2 contact u...      1\n",
       "..      ...                                                ...    ...\n",
       "952     953  hows my favourite person today? r u workin har...      0\n",
       "953     954                      How much you got for cleaning      0\n",
       "954     955  Sorry da. I gone mad so many pending works wha...      0\n",
       "955     956                                 Wat time ü finish?      0\n",
       "956     957                    Just glad to be talking to you.      0\n",
       "\n",
       "[957 rows x 3 columns]"
      ]
     },
     "execution_count": 7,
     "metadata": {},
     "output_type": "execute_result"
    }
   ],
   "source": [
    "dataset"
   ]
  },
  {
   "cell_type": "code",
   "execution_count": 15,
   "id": "9db8a949",
   "metadata": {},
   "outputs": [
    {
     "name": "stderr",
     "output_type": "stream",
     "text": [
      "[nltk_data] Error loading stopwords: <urlopen error [Errno 11001]\n",
      "[nltk_data]     getaddrinfo failed>\n"
     ]
    },
    {
     "data": {
      "text/plain": [
       "False"
      ]
     },
     "execution_count": 15,
     "metadata": {},
     "output_type": "execute_result"
    }
   ],
   "source": [
    "import nltk\n",
    "nltk.download('stopwords')"
   ]
  },
  {
   "cell_type": "code",
   "execution_count": 25,
   "id": "75cfeaca",
   "metadata": {},
   "outputs": [],
   "source": [
    "import re  # re is regular expression use to replace values\n",
    "from nltk.corpus import stopwords\n",
    "from nltk.stem.porter import PorterStemmer\n",
    "corpus=[]\n",
    "for i in range(0,957):\n",
    "    m_body=re.sub('[^a-zA-Z]',' ',dataset[\"Message_body\"][i])    #sub is use for substitution it give only alphabets a to z and A to Z\n",
    "    m_body=m_body.lower()\n",
    "    m_body=m_body.split()   # it will split all reviews\n",
    "    ps=PorterStemmer()\n",
    "    all_stopwords=stopwords.words(\"english\")\n",
    "    all_stopwords.remove\n",
    "    m_body=[ps.stem(word)for word in m_body if not word in set(all_stopwords)]  #this process is use for remove stop words from list\n",
    "    m_body=' '.join(m_body)\n",
    "    corpus.append(m_body)"
   ]
  },
  {
   "cell_type": "code",
   "execution_count": 26,
   "id": "534de9d7",
   "metadata": {},
   "outputs": [
    {
     "name": "stdout",
     "output_type": "stream",
     "text": [
      "['rofl true name', 'guy bitch act like interest buy someth els next week gave us free', 'piti mood suggest', 'b go esplanad fr home', 'nd time tri contact u u pound prize claim easi call p per minut bt nation rate', 'remind get pound free call credit detail great offer pl repli text valid name hous postcod', 'huh lei', 'wait til least wednesday see get', 'ard like dat lor', 'ok lor soni ericsson salesman ask shuhui say quit gd use consid', 'get dump heap mom decid come low bore', 'anyth lor juz us lor', 'next lt gt hour imma flip shit', 'sorri call later', 'meant calcul lt gt unit lt gt school realli expens start practic accent import decid year dental school nmde exam', 'ye u text pshew miss much', 'yeh indian nice tho kane bit shud go drink sometim soon mite hav go da work laugh soon love pete x x', 'well keep mind got enough ga one round trip bar sudden influx cash', 'hahaha use brain dear', 'safe trip nigeria wish happi soon compani share moment', 'wen get spiritu deep great', 'cool time think get', 'know wot peopl wear shirt jumper hat belt know r cribb', 'tri weekend v', 'ic lotta childporn car', 'hi durban still number', 'take derek amp taylor walmart back time done leav mous desk text priscilla readi', 'u still havent got urself jacket ah', 'armand say get ass epsilon', 'yeah ju rite', 'ask mobil chatlin inclu free min india cust serv sed ye l er got mega bill dont giv shit bailiff due day want', 'sleep surf', 'believ attach see everi day know best get babe go teach class midnight', 'want explicit sex sec ring cost p min gsex pobox wc n xx', 'aiyah ok wat long got improv alreadi wat', 'know thinkin malaria relax children cant handl malaria would wors gastroenter take enough replac loss temp reduc give malaria med vomit self limit ill mean day complet stop', 'ok anoth number', 'hey chief give bell get need talk royal visit st june', 'happen adventur', 'compliment away system side', 'think tantrum finish yeah point', 'one', 'effect irrit ignor', 'total disappoint text craziest shit got', 'privat account statement show un redeem point call identifi code expir', 'want tell bad feel basic time text late need drug', 'award sipix digit camera call landlin deliveri within day cs box bp yr warranti ppm p p', 'go join tomorrow', 'that cool want pleas', 'big chic common declar', 'dont want hear anyth', 'pl send compani name saibaba colani', 'way put skip right outsid front hous see hous pull', 'mile smile r made frm letter u know differ smile ur face keep happi even though mile away u keep smile good nyt', 'ya referin mei ex wat ah waitin u treat somebodi shld b rich liao gd den u dun work frm tmr onward', 'great role model give much realli wish day miracl god reason everyth must say wish knew dont look sinc young still great day', 'oh oki lor go sat', 'ye pleas leav lt gt lt gt leav', 'make dinner', 'reassur crazi world', 'went project centr', 'lol mad first woke gave', 'machan go gym tomorrow wil come late goodnight', 'want insid everi night', 'god love limit god grace measur god power boundari may u god endless bless alway ur life gud ni', 'told tell stupid hear wont tell anyth dad call brother spoken', 'wait msg lt gt min', 'perhap much easi give account identif tomorrow uni', 'apo mokka player', 'privat account statement show un redeem point call identifi code expir', 'love one law make happi person love way friendship one law never make ur friend feel alon aliv gud night', 'get step outta way congrat', 'wake gt', 'sm servic inclus text credit pl goto www comuk net login qxj unsubscrib stop extra charg help comuk cm ae', 'ye trust u buy new stuff asap tri', 'good afternoon love goe day sleep hope well boytoy think', 'cool shall go see go tip anyway home got someth drop later let go town tonight mayb mum take us', 'think rule tamilnadu tough peopl', 'marvel mobil play offici ultim spider man game ur mobil right text spider game send u free ball wallpap', 'u studi sch go home anyway b go sch later', 'k sent', 'oh thank lot alreadi bought egg', 'k sent', 'p per min call germani bt line p per min check planettalkinst com info c text stop opt', 'ofcours also upload song', 'also fuck famili go rhode island wherev fuck leav alon week new bong gt', 'pick variou point go yeovil motor project hour u take home max easi', 'li hai bore da lectur repeat last week stuff wast time', 'urgent tri contact last weekend draw show u prize guarante call claim code k valid hr p pm', 'shall call dear food', 'seen back holbi', 'realli hope work doesnt get stress gr day', 'probabl lt gt', 'today sunday sunday holiday work', 'ye princess want pleas everi night wish command', 'dhoni luck win big titl win', 'mummi boy good bad posit neg mummi made wait hmmmm', 'ok lor reach messag', 'well obvious peopl cool colleg life went home', 'yup', 'thought slide enough', 'ok lor', 'urgent last weekend draw show cash spanish holiday call claim c rstm sw ss ppm', 'get garden readi summer free select summer bulb seed worth scotsman saturday stop go notxt co uk', 'http tm widel com index wml id ad first true c c rington', 'shall bring us bottl wine keep us amus joke bring one anyway', 'treasur everi moment spend togeth', 'u goin nite', 'txt call claim reward hour talk time use phone subscrib gbp mnth inc hr stop txtstop www gamb tv', 'ok thk got u wan come wat', 'decemb mobil mth entitl updat latest colour camera mobil free call mobil updat co free', 'hear loud scream lt gt minut caus gyno shove thing belong', 'sorri call later', 'arun u transfr amt', 'sparkl shop break per person call visit www shortbreak org uk', 'wish beauti day moment reveal even thing keep smile enjoy', 'im wonder right', 'except there chick huge boob', 'hello wat talk email address', 'sing hu think also import find someon femal know place well prefer citizen also smart help navig even thing like choos phone plan requir guidanc doubt ask especi girl', 'sac need carri', 'latest news polic station toilet stolen cop noth go', 'aight pick open tonight', 'take away money worri', 'back good journey let know need receipt shall tell like pendent', 'fine got enough bud last night least', 'good morn repair shop reason hour', 'guarante award mayb even cash claim ur award call free legitimat efreefon number wat u think', 'thought get watch co that kind thing u get th love much', 'way make sure u get train worc foreg street shrub hill fun night x', 'thank gener date brotha', 'hey book lesson sun liao', 'youdo later sar xxx', 'slow use biola fne', 'mode men left', 'wif buy tix lar', 'jesu armand realli tri tell everybodi find', 'gonna way specif', 'thanx lot ur help', 'pay attent', 'make time tonight whenev cool text whenev around', 'er yeah b sorri tell pub cafe sit come wen u', 'didnt complet gist oh', 'santa call would littl one like call santa xma eve call book time', 'oh yeah diet flew window', 'otherwis part time job na tuition', 'u horribl gal u knew dat go wif yest n u still come n ask', 'sorri call later', 'ok k sri knw siva tat askd', 'hi elain today meet confirm', 'dont know oh hope month', 'bruce amp fowler mom car park long stori', 'realli master', 'nope forgot show next week', 'slave want take pictur today bright light cell phone bright light', 'get chicken broth want ramen unless know', 'east coast', 'nite nite pocay wocay luv u n e thing eva promis ring u morrowxxxx', 'gr handl victoria island traffic plu album due', 'ask u meet da ge tmr nite', 'daddi shu shu look u u wan tell u singapor wat', 'first time everyth', 'pub', 'yup msg tat yiju tot group mate co meet today mah askin leav earlier wat mah co mayb haf walk v far', 'dear angri busi dear', 'mani day sinc', 'pl give prometazin syrup ml lt gt min later feed', 'gd got free ice cream oso wan', 'hi babe thank come even though didnt go well want bed hope see soon love kiss xxx', 'babe think got ur brolli left english wil bring mrw u luv franxx', 'hard true much show amp express love someon much hurt leav get seper ud even', 'appar bff carli quick', 'hi hope good day better night', 'necessarili respect', 'want custom offic discount oh', 'dunno lei shd b drive lor co go sch hr oni', 'dont know exactli could ask chechi', 'done hand know mega shop asda count celebr that', 'ooooooh forgot tell u get yovil phone', 'watch ajith film ah', 'nt joke serious told', 'ok ok ok what ur today plan', 'much fight good nite', 'gentl babi soon take lt gt inch deep insid tight pussi', 'work pleas call', 'friend help us problem give stupid suggest land us anoth problem help us forgt previou problem', 'babe hope ok shit night sleep fell asleep knacker dread work tonight thou upto tonight x', 'good day pray remov teeth pain maintain stuff', 'make squeez lt gt buck dad', 'new messag call', 'sunni california weather cool', 'somebodi set websit play hold em use eve onlin spacebuck', 'free entri gr prize wkli comp chanc win latest nokia psp cash everi wk txt great http www gr prize com', 'current lead bid paus auction send custom care', 'want leav bare stay sane fight constantli help', 'cant pick phone right pl send messag', 'u konw waht rael friendship im gving yuo exmpel jsut ese tih msg evrey splle tih msg wrnog bt sitll yuo ra wihtuot ayn mitsak goodnight amp nice sleep sweet dream', 'k head min see', 'ok problem u frm wat matter', 'lol oh got friend dog', 'date two start sent text talk sport radio last week connect think coincid', 'hi mom might back later lt gt', 'import messag final contact attempt import messag wait custom claim dept expir call', 'tri figur suppos see coupl differ peopl week said get togeth set date', 'xma reward wait comput randomli pick loyal mobil custom receiv reward call', 'call send girl erot ecstaci p min stop text call nat rate', 'think mentor percent sure', 'insid offic still fill form know leav', 'yep get program slack', 'hey iouri gave number wyli ryan friend', 'ur face test lt gt select number tell ur face astrolog wait quick repli', 'hmm shall bring bottl wine keep us amus joke still bring bottl red white see tomorrow', 'ok', 'tell someth that okay', 'live simpl love also simpl laugh simpl win tooo simpl simpl difficult', 'aiyo co sm neva repli wait repli lar tot havent finish ur lab wat', 'guai shd haf seen naughti free today go jog', 'good morn princess great day', 'yup paragon havent decid whether cut yet hee', 'one interest may busi plan', 'home', 'thought put back box', 'sir hr trip bu last week anoth audit next wednesday think might drive time', 'parent kidz friend n colleagu scream surpris wait sofa nake', 'wat', 'guy plan come', 'go open room til thanksgiv without upcharg', 'u r subscrib textcomp wkli comp st wk free question follow subsequ wk charg p msg unsubscrib txt stop custcar', 'cours make stink', 'u awak snow', 'like jerk', 'wanna gym', 'birthday feb lt gt da', 'sound better even im costum im sure time finish tomorrow txt end', 'pride almost lt gt year old takin money kid suppos deal stuff grownup stuff tell', 'garbag bag egg jam bread hannaford wheat chex', 'neither sterm voic studi fine sure thing resolv tho anyway fab hol', 'think steyn sure get one wicket', 'x cours yr messag messeng lik r send', 'dude im longer pisc im aquariu', 'sir wait letter', 'sweet heart', 'wish wonder week', 'make happi', 'gal n boy walk park gal hold ur hand boy u think would run away gal jst wana c feel walk heaven princ gn', 'dear sir salam alaikkum pride pleasur meet today tea shop pleas send contact number qatar rakhesh indian pl save number respect regard', 'aah bless arm', 'thank keep mind', 'ok problem yup go sch rem correctli', 'havent got da topic yet rite', 'kothi print marandratha', 'good morn love go sleep wish great day full feel better opportun last thought babe love kiss', 'k fyi back parent place south tampa might need deal somewher els', 'ju finish watch tv u', 'hahaha use brain dear', 'get offici england poli rington colour flag yer mobil tonight game text tone flag optout txt eng stop box w wx', 'sister go earn da', 'got ur favorit oyster n got favorit sashimi ok lar dun say alreadi wait ur stomach start rumbl', 'k k go tirunelvali week see uncl alreadi spend amount take dress want money give feb', 'yeah think', 'jolli good way give u ticket sat eve speak x', 'come back thursday yay gonna ok get money cheer oh yeah everyth alright how school call work', 'leav', 'ill min look', 'hi miss call mumha beendrop red wine theplac adress', 'pl ask macho much budget bb bold co saw new one lt gt dollar', 'tell quit long co finish film yet', 'lt gt buck bank fee fix better call bank find', 'time come tomorrow', 'make tonight', 'well good morn mr how london treatin ya treacl', 'hand phone chat wit u', 'darl sister school resum minimum wait period reappli take care', 'u come funer home', 'alex say ok ok', 'xma iscom ur award either cd gift voucher free entri r weekli draw txt music tnc www ldew com win ppmx age subscript', 'donno gene someth', 'urgent pleas call landlin cash luxuri canari island holiday await collect cs sae po box xy ppm', 'xy tri smth u eat alreadi havent', 'dear call', 'hey congrat u id luv ive go home', 'excel thought misundrstud frnd knw u hate bt day wen u knw truth u hate urself gn', 'hey forget mine possess properti mmm childish smile', 'still pretti weak today bad day', 'urgent week free membership prize jackpot txt word claim c www dbuk net lccltd pobox ldnw rw', 'sent ur email id soon', 'yeah probabl', 'gone get info bt dont know', 'princess', 'vikki come around lt time gt', 'helloooo wake sweet morn welcom enjoy day full joy gud mrng', 'urgent mobil number award prize guarante call land line claim valid hr ppm', 'best msg hard person u know one step foward make u fall love amp one step back ruin ur friendship good night', 'dunno leh cant rememb mayb lor wat time r meet tmr', 'oh yeah clearli fault', 'hi hope ur day good back walk tabl book half eight let know ur come', 'late k wish', 'hello u u u b move flat co need arrang pick lamp etc take care hello carolin', 'u wan come dinner tonight', 'u fix teeth asap ok take care', 'prize go anoth custom c www c biz p min polo ltd suit london w j hl pleas call back busi', 'er enjoyin indian mo yep sall good hehe how bout u shexi pete xx', 'anyth lar go home dinner', 'hi darlin kate u doin somethin tonight im go pub call swan someth parent one drink phone u', 'gud ni swt drm take care', 'storm msg wen u lift phne u say hello u knw wt real mean hello name girl ye u knw dat girl margaret hello girlfrnd f grahmbel invnt telphon moral one get name person bt girlfrnd g n g h', 'pl speak wont ask anyth friendship', 'see film', 'absolut love south park recent start watch offic', 'anyon call treadmil say buy make sure work found ad craigslist sell lt gt', 'help u swoop pick u wherev ur bird r meet u want', 'cbe chennai', 'usual iam fine happi amp well', 'well big surpris', 'ok sweet dream', 'didnt get anyth da', 'pleas tell car key purs', 'studi alon without anyon help cant need studi', 'yeah work fine start last week stuff dull easi guy fun', 'urgent pleas call landlin cash holiday await collect cs sae po box xy', 'k leav soon littl', 'u come n search tat vid finishd', 'gud ni dear slp well take care swt dream muah', 'eaten day sit stare juici pizza eat med ruin life', 'thank princess want see nice juici booti', 'thank temal wonder thank great week', 'cours teas know simpli must see grin keep post prey love smile devour kiss', 'hmm think lor', 'part check iq', 'gud gud k chikku tke care sleep well gud nyt', 'jay want work first sound', 'yeah still give ride', 'someonon know tri contact via date servic find could call mobil landlin box sk ch', 'uworld site buy qbank buy self assess also', 'ok cool see ya', 'hey project start aha da', 'chosen receiv award pl call claim number collect award select receiv valu mobil custom', 'realis busi guy tri bother get exam outta way tri car gr day', 'nope still market', 'mean u could keep ur word', 'privat account statement fone show un redeem point call identifi code expir', 'met alex nichol middl school turn deal', 'prabha soryda reali frm heart sori', 'smile pleasur smile pain smile troubl pour like rain smile sum hurt u smile becoz someon still love see u smile', 'oh fuck juswok bed boatin dock slept wid year old spinout giv u da gossip l r xxx', 'die want u stuff', 'night nt stay port step liao ex', 'jane babe goin wrk feel ill lst nite fone alreadi cover chuck', 'take exam march', 'pl need dat slowli vomit', 'accident brought em home box', 'well that nice bad cant eat', 'late', 'keep ten rs shelf buy two egg', 'natalja f invit friend repli ye see www sm ac u nat stop send stop frnd', 'pa select', 'k k busi', 'yesterday true true', 'dai download exe file run exe instal', 'know thinkin malaria relax children cant handl malaria would wors gastroenter take enough replac loss temp reduc give malaria med vomit self limit ill mean day complet stop', 'hi think match', 'babe answer see mayb better reboot ym got photo great', 'reach ur home lt gt minut', 'mobil mth updat free orang latest colour camera mobil unlimit weekend call call mobil upd freefon stoptxt', 'come get b quit diff guess rite', 'fine absolutli fine', 'wot student discount u get book', 'costa del sol holiday await collect call toclaim sae tc pobox stockport sk xh cost pm max min', 'call germani penc per minut call fix line via access number prepay direct access www telediscount co uk', 'ugh leg hurt musta overdid mon', 'fine difficulti phone work mine pl send anoth friend request', 'like cheap happi splash wine make feel better', 'spook mob halloween collect logo pic messag plu free eeri tone txt card spook zed p per logo pic', 'darren say dat u meet da ge den dun meet dinner co later u leav xy feel awkward den u meet lunch lor', 'ok take ur time n enjoy ur dinner', 'wyli tampa sarasota', 'oh oh den muz chang plan liao go back yan jiu', 'sorri call later', 'record indic u mayb entitl pound compens accid claim free repli claim msg stop txt stop', 'ree entri weekli comp chanc win ipod txt pod get entri std txt rate c appli detail', 'oki', 'time u wrkin', 'upload mine facebook', 'cook rather nice salmon la', 'town ju take mrt later', 'fuuuuck need stop sleepin sup', 'sent like', 'k sure rel home sm de pl', 'babe fuck love know fuck good hear voic need crave get enough ador ahmad kiss', 'hi hope u r ok said would text u seen let gentli pleas', 'sm auction brand new nokia auction today auction free join take part txt nokia', 'strang watch nd one bed sweet dream miss u', 'compani good environ terrif food realli nice', 'raji pl favour pl convey birthday wish nimya pl today birthday', 'water log desert geoenvironment implic', 'u', 'aight text tonight see', 'oh k come tomorrow', 'school n da lab stuff give call r done', 'go lunch', 'got salt rub open wound like', 'oh charg camera', 'dun believ leh tot told true alreadi thk muz c us tog believ', 'still got lesson sch', 'congrat mobil g videophon r call videochat wid ur mate play java game dload polyph music nolin rentl bx ip p', 'ok leav need ask', 'send text skype later', 'lol need cash nitro hurri come crash', 'ok r meet later', 'bluray player', 'come karnan car pleas wait till pm directli goto doctor', 'k k sm chat', 'sir need velusami sir date birth compani bank facil detail', 'new year eve ok went parti boyfriend si hey', 'like lt gt question', 'left yet probabl gonna til dinner', 'idk sit stop shop park lot right bawl eye feel like failur everyth nobodi want feel like fail', 'problem renew right away dont know detail', 'happi new year u ur famili may new year bring happi stabil tranquil ur vibrant colour life', 'pl call da happen', 'k come wenev u lik come also tel vikki come get free time', 'get garden readi summer free select summer bulb seed worth scotsman saturday stop go notxt co uk', 'oh unintent bad time great finger train play along give fifteen min warn', 'aiyar u poor thing give u support k jia think u', 'offic da', 'hi darlin im helen fone im gonna b princ nite pleas come tb love kate', 'start dont stop pray good idea anyth see help guy forward link', 'free st week nokia tone ur mobil everi week txt nokia get txting tell ur mate www getz co uk pobox w wq norm p tone', 'yeah imagin would realli gentl unlik doc treat patient like turkey', 'oh shut omg yesterday dream kid boy piss kid boy even told mark dream chang diaper caus get owe face', 'yup havent want go yoga call book', 'costa del sol holiday await collect call toclaim sae tc pobox stockport sk xh cost pm max min', 'nice pub near franki n benni near warner cinema', 'sorri grocer', 'sday join train start today', 'hmm dunno leh mayb bag goigng dat small ju anyth except perfum smth dat keep', 'still work time also tri ad zero save check lt gt', 'suck go u hair free right', 'way', 'rose red red blood blood heart heart u u send ti ur friend includ u like u get back u r poor relat u need support u r frnd mani luv u pray god marri u tri', 'wot wed nite til', 'cuz ibor wanna studi', 'wonder okor great month cherish guy wish well day mojibiola', 'work ah den plu lor u workin oso rite den go orchard lor place go liao', 'imposs argu alway treat like sub like never releas remind necessari', 'hi chikku send nice msg', 'enufcredeit tocal shall ileav uni get bu yor hous', 'oop lt gt', 'privat account statement', 'lol real told dad cancer', 'drive train', 'aslamalaikkum insha allah tohar beeen muht albi mufti mahfuuz mean', 'thank fill complet calm reassur', 'get lion england tone repli lionm mono lionp poli go www rington co uk origin n best tone gbp network oper rate appli', 'argh fuck nobodi town', 'u definit need modul e human di sem izzit u wan take modul st', 'decemb mobil mth entitl updat latest colour camera mobil free call mobil updat vco free', 'reach sch alreadi', 'new messag pleas call', 'oh got mani respons', 'sign matur start say big thing actual start understand small thing nice even bslvyl', 'realli need kiss u miss u babi ur babi eva', 'ding ya break fassyol blacko londn', 'wnt buy bmw car urgent vri urgent hv shortag lt gt lac sourc arng di amt lt gt lac that prob', 'boy love gal propsd bt didnt mind gv lv lttr bt frnd threw thm boy decid aproach gal dt time truck speed toward gal wn hit girl boy ran like hell n save ask hw cn u run fast boy repli boost secret energi n instantli girl shout energi n thi live happili gthr drink boost evrydi moral stori hv free msg gud ni', 'news hassl get weed week andr money haughaighgtujhyguj', 'msg mobil content order resent previou attempt fail due network error queri customersqueri netvis uk com', 'nope that fine might nap tho', 'aight call close', 'ah well confus thing doesnt thought friend mayb wrong thing alreadi sort invit tho may come co money', 'themob hit link get premium pink panther game new sugabab crazi zebra anim badass hoodi wallpap free', 'sorri mate phone didnt write love kate', 'realli realli broke oh amount small even lt gt', 'k k month kote birthday know', 'hi shanil rakhesh thank exchang uncut diamond stuff leav back excel servic dino prem', 'gokila talk aha', 'fri ah oki lor goin drivin den go shoppin tt', 'check room befor activ', 'st andr virgil cream', 'type stuff sing', 'wont anyth de', 'good morn im suffer fever dysentri abl come offic today', 'omg one thing anoth cat worm bad day end', 'sorri miss call pleas call back', 'hey happi birthday', 'aiya discuss later lar pick', 'amaz rearrang letter give mean dormitori dirti room astronom moon starer eye see elect result lie let recount mother law woman hitler eleven plu two twelv plu one amaz', 'keep ur problem ur heart b coz nobodi fight u u amp u fight ur self amp win battl vivekanand g sd ham yeah give call got minut ham hi babe uawak feellikw shit justfound via alett thatmum gotmarri thnov behind ourback fuckinnic selfish deviousbitch anyway l call u', 'mark work tomorrow get work hous meet u afterward', 'want new nokia colour phone deliveredtomorrow free minut mobil free text free camcord repli call', 'guy flash go call call madam take care oh', 'well glad find total disagre lol', 'nd attempt contract u week top prize either cash prize call', 'want sent lt gt mesag today that sorri hurt', 'gud ni dear slp well take care swt dream muah', 'win shop spree everi week start play text store skilgm tsc winawk age perweeksub', 'differ style', 'p alfi moon children need song ur mob tell ur txt tone chariti nokia poli chariti poli zed profit chariti', 'hai dear friend new amp present number rajitha raj ranju', 'talk g x', 'uk break accommodationvouch term condit appli claim mustprovid claim number', 'call later afternoon onword mtnl servic get problem south mumbai hear cann listen', 'brother transfer lt gt lt gt pa', 'dunno lei like dun haf', 'ok also wan watch e pm show', 'havent stuck orchard dad car go dinner u leh r free tonight', 'sorri call later meet sir', 'think disturb da', 'free video camera phone half price line rental mth cross ntwk min txt call mobileupd call optout', 'geeeee internet realli bad today eh', 'hey next sun basic yoga cours bugi go pilat intro next sat tell time r free', 'goodnight da thangam realli miss u dear', 'train back northampton afraid stay skyve today ho ho around wednesday though fanci comedi club week way', 'doubl min doubl txt price linerent latest orang bluetooth mobil call mobileupd latest offer call optout lf', 'lmao know well', 'tick tick tick could die loneli know pout stomp feet need', 'si lor juz watch italian job', 'vote wherev heart guid', 'yeah basic time next week get away mom amp get', 'hmmm still dont open', 'desir u go doctor liver get bit stylish get ur hair manag that', 'sent jd custom servic cum account execut ur mail id detail contact us', 'dunno dad said come home bring us lunch yup go w u lor call u reach school lor', 'ic lol play door sometim yo', 'jamster get free wallpap text heart c appli need help call', 'ran younger man make pretti babi togeth', 'natali f invit friend repli ye see www sm ac u natali k stop send stop frnd', 'pl clarifi back open return ticket prepon go back kerala', 'thank talk saturday dear cherish brother role model', 'hear', 'believ true incred txt repli g learn truli amaz thing blow mind fwd p txt', 'mani time told stage use laugh listen aha', 'want go perumbavoor', 'realli good see day dudett miss', 'ok vl u know got adsens approv', 'hey inconveni si huh', 'come friday leav pongal get news work place', 'like tell deepest darkest fantasi call p min stop text call nat rate', 'go chase run cross street', 'privat account statement show un redeem point call identifi code xx expir', 'ur cash balanc current pound maxim ur cash send go p meg cc hg suit land row w j hl', 'gonna ask lol think', 'happen', 'anyway holla whenev around need excus go creep peopl sarasota', 'ye possibl dint tri pl dont tell one k', 'sad puppi nois', 'cool last littl get time soon', 'great offic today', 'babe talk think good boy miss love', 'dear xxxxxxx u invit xchat final attempt contact u txt chat p msgrcvdhg suit land row w j hl ldn yr', 'hey gal u wanna meet dinner n te', 'think two still need get cash def readi', 'hello boytoy geeee miss today like send tm remind think love love kiss', 'uncl g check reward month', 'u attend ur drive lesson mani time wk n day', 'guarante cash prize claim yr prize call custom servic repres pm cost p', 'way rencontr meet mountain dont', 'mobil number pl sm ur mail id convey regard achan amma rakhesh qatar', 'go fool dont cheat other ok', 'oh k come tomorrow', 'ill b soon', 'guess pub im im happi pig clover whatev say', 'someon year lt gt toyota camri like mr olayiwola mileag lt gt k clean need know much sell rais dough soon land sell holla back', 'cd u congratul ur award cd gift voucher gift guarante freeentri wkli draw xt music tnc www ldew com win ppmx age', 'still around look pick later', 'nope sinc ayo travel forgotten guy', 'well like actual call someon punto woulda wors', 'hmph go head big baller', 'talk', 'esplanad lor els', 'happi new year hope good semest', 'look addi goe back monday suck', 'drive read need write', 'hey kate hope ur ok give u buz wedlunch go outsomewher adrink town cud go watershd bit ppl fromwrk bthere love petexxx', 'hungri buy smth home', 'made eta taunton plan hope still okday good see xx', 'phoni award today voda number end xxxx select receiv award match pleas call quot claim code standard rate app', 'tell coulda real valentin u never pick noth', 'channel', 'rush work school rush go hungri', 'u haf keep busi', 'dont let studi stress l r', 'goldvik invit friend repli ye see www sm ac u goldvik stop send stop frnd', 'network job', 'slept thinkthi time lt gt pm danger', 'said okay sorri', 'u today', 'spend new year brother famili let plan meet next week readi spoil', 'jade paul u txt u rememb barm want talk u txt', 'boy late home father power frndship', 'gorgeou keep pix cum thank', 'yar tot u knew di would happen long ago alreadi', 'aiyo u poor thing u dun wan eat u bath alreadi', 'oop shower u call hey park garag collaps univers hospit see crazi stuff like happen', 'fine hope good take care', 'hey come onlin use msn', 'suppos meet discuss abt trip thought xuhui told afternoon thought go lesson', 'cme want go ho morow wil cme got dear didnt say time', 'futur plan tomorrow result today best present enjoy futur', 'donat unicef asian tsunami disast support fund text donat ad next bill', 'urgent tri contact u today draw show prize guarante call land line claim valid hr', 'peopl game mall iouri kaila', 'dear voucher holder next meal us use follow link pc enjoy dine experiencehttp www vouch com etlp dine asp', 'want see pretti pussi', 'yup ok', 'bit ur smile hppnss drop ur tear sorrow part ur heart life heart like mine wil care u forevr goodfriend', 'want lt gt rs da', 'mean left earli check co work', 'u call lunch', 'vivek got call number', 'ahhhh woken bad dream u tho dont like u right didnt know anyth comedi night guess im', 'master buy bb co sale bf', 'u come back dinner rite dad ask confirm wif u', 'lost pound sinc doc visit last week woot woot gonna celebr stuf face', 'welcom select servic ad benefit call special train advisor free mobil diall', 'hi babi im sat bloodi bu mo wont home wanna somethin later call later ortxt back jess xx', 'hi probabl much fun get messag thought id txt u co im bore jame fart night', 'bu way calicut', 'hi ami send free phone number coupl day give access adult parti', 'great news call freefon claim guarante cash gift speak live oper', 'alreadi back home probabl', 'anyway think secur anyth lemm know want drive south chill', 'wrong phone phone answer one assum peopl well', 'check mail mail varma kept copi regard membership take care insha allah', 'eatin lor goin back work soon e mountain deer show huh watch b liao nice', 'omg make wed chapel frontiervil get good stuff', 'go home liao ask dad pick', 'tomarrow want got court lt decim gt come bu stand', 'cancel yeah babi well sound import understand darlin give ring later fone love kate x', 'g want know fuck', 'k k congratul', 'hey babe go ever figur go new year', 'hey want anyth buy', 'free call sir', 'match start india lt gt', 'good morn boytoy yummi lip sexi bun think crave need', 'hi sexychat girl wait text text great night chat send stop stop servic', 'got take take part wrc ralli oz u lucozad energi text ralli le p see pack lucozad co uk wrc itcould u', 'hope piss rememb gone sister someth', 'wanna art', 'oh ye like tortur watch england', 'ok let u noe leav hous', 'go e normal pilat intro', 'oh yah never cancel leh haha', 'hi dear call urgnt know what problem want work problem least tell wate repli', 'common hearin r u wat r u ur day let ask u someth differ u smile today gud evng', 'g say never answer text confirm deni', 'call see facebook huh', 'sit mu wait everyon get suit take shower', 'nd time tri contact u u pound prize claim easi call p per min bt nation rate', 'drop em omw back', 'took hooch walk toaday fell splat graze knee everyth stay home see tomorrow', 'alreadi got flaki parent snot suppos child job support parent ride age anyway suppos support hurt unintent hurt nonetheless', 'goal arsen henri v liverpool henri score simpl shot yard pass bergkamp give arsen goal margin min', 'way tirupur', 'love holiday monday feel even go dentist hour', 'regret inform u nh made mistak u never actual born pleas report yor local hospit b termin r sorri inconveni', 'good day', 'solihul want anyth', 'anyth special', 'come onlin today night', 'warner villag c colin farrel swat wkend warner villag get free med popcorn show msg ticket kiosk valid c c kiosk repli soni mre film offer', 'mean post wrote like mani time ritten stuff let sit feel time angri left hit send stop check phone got car said sleep bore time clean fold laundri etc least make bed', 'reach anoth stop', 'free polyphon rington text super get free poli tone week sn pobox nr zs subscript pw', 'taka lor wat time u wan come n look us', 'ou guarante latest nokia phone gb ipod mp player prize txt word collect ibhltd ldnw h p mtmsgrcvd', 'haha first person gonna ask', 'oh fuck sake like tallahasse', 'cant pick phone right pl send messag', 'half year miss friendship', 'want latest video handset anytim network min half price line rental repli call deliveri tomorrow', 'convey regard', 'send new number', 'miser tell u side effect birth control massiv gut wrench cramp first month sleep last night', 'wors use half way stop better complet', 'sound like could lot time spent chastiti devic boy grin take beat like good dog go loung nice long bath', 'japanes proverb one u none u must indian version one let none leav final kerala version one stop none make strike', 'pl make note expos also find school anyon els vomit dog cat hous let know later', 'today vodafon number end select receiv award number match call receiv award', 'time', 'poor girl go one day lmao', 'mani thing antibiot use chest abdomen gyna infect even bone infect', 'new theori argument win situat lose person dont argu ur friend kick amp say alway correct', 'usual u call ard smth', 'pick', 'alright tyler got minor crisi home sooner thought asap', 'yeah open chat click friend list make list easi pie', 'polyphon tone ur mob everi week txt pt st tone free get txtin tell ur friend p tone repli hl info', 'world happiest frnd never charact dey best understand differ', 'lyricalladi f invit friend repli ye see www sm ac u hmmross stop send stop frnd', 'know dat feelin pete wuld get em nuther place nuther time mayb', 'wat happen cruis thing', 'lol oop sorri fun', 'hi di yiju would happi work wif gek', 'well know mean text', 'dip cell dead come u better respond els shall come back', 'tension face smile face wast face innoc face terror face cruel face romant face lovabl face decent face lt gt joker face', 'watch cartoon listen music amp eve go templ amp church u', 'okey dokey swashbuckl stuff oh', 'oh shit thought trip loooooool make much sens grin sofa refer sleep couch link sent went trip oh babe go celebr rent', 'realli sorri lit hair fire', 'sorri da today wont come play drive cla', 'bore housew chat n date bt nation rate p min landlin', 'free messag thank use auction subscript servic p msgrcvd skip auction txt unsubscrib txt stop customercar', 'nokia phone lovli', 'respons one power weapon occupi place other heart alway give respons care u gud night swt dream take care', 'hey guy know breath neck get bud anyway abl get half track usf tonight', 'ok', 'thank bomb date phone want say', 'ye babi need stretch open pussi', 'u', 'also north carolina texa atm would go gre site pay test result sent', 'fine hope also', 'like new hous', 'gain right wife dont demand tri husband let see', 'mayb find someth els instead', 'either way work lt gt year old hope doesnt bother', 'increas chanc win', 'escap theatr go watch kavalan minut', 'pl help tell ashley cant find number oh', 'miss pray inshah allah', 'valu vodafon custom comput pick win prize collect easi call', 'need detail onlin job', 'awesom gonna soon later tonight', 'hmmm mayb tri e shoppin area one forgot e name hotel', 'privat account statement show un redeem point call identifi code expir', 'one issu california okay snow manag', 'boy made fun today ok problem sent one messag fun', 'photoshop make comput shut', 'yay wait parti togeth', 'oh rite well im best mate pete went week geva longer week', 'hope pee burn tonit', 'new mobil must go txt nokia collect today www tc biz optout gbp mtmsg txtauction', 'rat hey u ever vote next theme', 'po de need job aha', 'word checkmat chess come persian phrase shah maat mean king dead goodmorn good day', 'long get repli defer admiss til next semest', 'lol tri make day littl interest', 'yup give problem mayb ju leav', 'haha thinkin', 'go sleep tire travel', 'thought bout drink tap spile seven pub ga st broad st canal ok', '', 'u r winner u ave special select receiv cash holiday flight inc speak live oper claim p min', 'im good think', 'check choos babe video sm shsex netun fgkslpopw fgkslpo', 'got smaller capac one quit ex', 'ur paper', 'mark take forev pick prescript pain come back', 'anyth valuabl situat first get second loos', 'home work meh', 'ummmmmaah mani mani happi return day dear sweet heart happi birthday dear', 'call lt gt min that ok', 'fyi usf swing room whenev', 'e admin build might b slightli earlier call u reach', 'honey pl find much sell predict nigeria mani time use import repli monday', 'worri though understand import put place poorli thought punish face worst thing ever happen brb gonna go kill', 'oga left phone home saw ur messag hope good great weekend', 'privat account statement show unredeem bonu point claim call identifi code expir', 'call u finish come n pick u', 'sorri delay ye master', 'er hello thing quit go plan limp slowli home follow aa exhaust hang', 'plan manag', 'revers cheat mathemat', 'guy car shop flirt got phone number paperwork call text nervou cours may address call boss tell know may get fire', 'cool tyler take gonna buy drop place later tonight total order quarter got enough', 'dont know get messag', 'come home want u miser', 'santa call would littl one like call santa xma eve call book time call ppm last min c www santacal com', 'urgent nd attempt contact u prize yesterday still await collect claim call', 'saw guy doll last night patrick swayz great', 'sorri uncl keep touch', 'u ask next sat make ok lor', 'gd luck ur exam', 'send resum', 'yup izzit still rain heavili co e mrt c outsid', 'opposit side drop', 'thanx yup come back sun finish dinner go back hotel time fli tog exactli mth today hope haf mani mth come', 'thk wat eat tonight', 'holi live christ take long', 'urgent call landlin complimentari ibiza holiday cash await collect sae cs po box sk wp ppm', 'inde way either', 'especi sinc talk boston person statement lol woulda chang realiz said nyc say boston', 'call senthil hsbc', 'yup hey one day fri ask miwa jiayin take leav go karaok', 'sen told go join uncl financ cbe', 'cant see join deni mina deni want alon time', 'u r beauti girl ive ever seen u r babi come c common room', 'sorri complet forgot pop em round week still', 'quit lor dun tell wait get complac', 'mani peopl seem special first sight remain special till last sight maintain till life end sh ja', 'u repeat e instruct wat e road name ur hous', 'ok u tell wat time u come later lor', 'hi mobil lt gt ad contact list www fullonsm com great place send free sm peopl visit fullonsm com', 'hi got money da', 'cheer lou yeah goodnit shame u neva came c ya gailxx', 'watev relat u built di world thing remain atlast iz lonlin lotz n lot memori feel', 'sure still avail though', 'uniqu user id remov send stop custom servic', 'when radio show', 'text way cup stop work bu', 'hi technic support provid assist us custom call email', 'prepar pleasur', 'love night xxx', 'ard rest ard least price bedrm', 'home doc gave pain med say everyth fine', 'thank continu support question week enter u draw cash name new us presid txt an', 'urgent mobil number award prize guarante call land line claim valid hr ppm', 'hey look like wrong one kappa guy number still phone want text see around', 'make life stressful alway find time laugh may add year life sure add life ur year gud ni swt dream', 'u wan haf lunch da canteen', 'ok lor u wan go look u', 'cashbin co uk get lot cash weekend www cashbin co uk dear welcom weekend got biggest best ever cash give away', 'well boy glad g wast night applebe noth', 'weekli cool mob tone readi download week new tone includ crazi frog axel f akon lone black eye dont p info n', 'still mayb leav credit card get ga get back like told', 'thanx u darlin im cool thanx bday drink nite morrow take care c u soon xxx', 'beauti life next second hide thousand secret wish everi second wonder ur life gud n', 'put sign choos number pin show right', 'orh tot u say still dun believ', 'camera award sipix digit camera call fromm landlin deliveri within day', 'think u x', 'hospit da return home even', 'ya nice readi thursday', 'mani happi return day wish happi birthday', 'keep see weird shit bein woah realis actual reason oh', 'pizza u want', 'bought test yesterday someth let know exact day u ovul get u wk pl pl dont fret know u r worri pl relax also anyth ur past histori u need tell', 'nt drive even mani reason call bbd tht chikku hw abt dvg cold heard tht vinobanagar violenc hw condit hw ru problem', 'possess especi first offens', 'oh k placement ah', 'buy space invad chanc win orig arcad game consol press game arcad std wap charg see co uk game term set purchas', 'good morn dear shijutta great amp success day', 'wat time r go xin hostel', 'k eng rock ash', 'dont know ask brother noth problem thing told', 'reach alreadi', 'career tel ad u contact indyarock com send free sm remov phonebook sm lt gt', 'mobil mth updat latest camera video phone free keep ur number get extra free min text text ye call', 'jason say cool pick place like hour', 'minor shindig place later tonight interest', 'free game get rayman golf free game arcad st get ur game set repli post save activ press key arcad termsappli', 'hello peach cake tast lush', 'home love still awak love kiss', 'yup anyth lor u dun wan ok', 'forgot tell smth like number section clearer', 'aiyo lesson earli still sleepin haha oki u go home liao den confirm w lor', 'uncl atlanta wish guy great semest', 'k addi amp art get home', 'hey happen u switch ur cell whole day isnt good u care give call tomorrow', 'min go lunch', 'oop thk dun haf enuff go check tell', 'big brother realli scrape barrel shower social misfit', 'that cool princess cover face hot sticki cum', 'huh slow tot u reach long ago liao u day leh', 'ya knw u vl giv ok thank kano anyway enjoy wit ur famili wit st salari', 'haha awesom might need take doin tonight', 'say bold torch later one torch bold', 'wif famili book tour packag', 'wow healthi old airport rd lor cant thk anyth els b bath dog later', 'hey anyway', 'yar say got error', 'mmmmmmm snuggl deep content sigh whisper fuck love much bare stand', 'anytim', 'like new mobil', 'win winner mr foley ipod excit prize soon keep eye ur mobil visit www win co uk', 'ye fine', 'da what plan', 'okey dokey bit sort stuff', 'guy get use dumb realiz', 'urgent mobil award bonu caller prize nd attempt contact call box qu', 'pl give food prefer pap slowli load sugar take hour give water slowli', 'tessi pl favor pl convey birthday wish nimya pl dnt forget today birthday shija', 'march end readi call sure problem capit never complet far work ladi', 'surli ill give come review', 'ok prob', 'tri g decid head', 'hmmm give one day', 'eatin lunch', 'pl dont play other life', 'alright bring see like lt gt min', 'life mean lot love life love peopl life world call friend call world ge', 'ok u take shop u get paid', 'haha yeah oz kind shitload', 'stay town', 'cool night lemm know around', 'sri da jst nw came home', 'good thing get connect bw', 'wewa iriv mb', 'readi call', 'hi babe chloe r u smash saturday night great weekend u miss sp visionsm com text stop stop p text', 'leav hous', 'forgot ask smth card da present lei want write smth sign', 'custom servic announc recent tri make deliveri unabl pleas call schedul ref', 'probabl almost ga get cash tomorrow', 'didnt get ur full msg sometext miss send', 'born god said oh anoth idiot born god said oh competit knew one day two becom freind forev', 'im reali soz imat mum nite moro', 'send print out da', 'tel softwar name', 'ok set let u noe e detail later', 'mum go robinson alreadi', 'ye pleas swim', 'ladi first genu second k', 'ok prob', 'call tell infront call', 'cant pick phone right pl send messag', 'messag great doctor india drink appi fizz contain cancer caus age', 'privat account statement show un redeem point call identifi code expir', 'k work someth', 'prasanth ettan mother pass away last night pray famili', 'hope great day', 'lol ye add spice day', 'r e meet tmr', 'xma reward wait comput randomli pick loyal mobil custom receiv reward call', 'final happen aftr decad beer cheaper petrol gover expect us drink drive', 'pleas protect e threat sib never ask sensit inform like password atm sm pin thru email never share password anybodi', 'okay go sleep later', 'god creat gap btwn ur finger dat sum vri special fill gap hold ur hand plz dont ask creat much gap leg', 'tri contact repli offer video phone anytim network min half price line rental camcord repli call', 'plan come chennai', 'u got person stori', 'sorri din lock keypad', 'rip get mobil content www clubmobi com call poli true pix rington game six download', 'havent', 'hide anythi keep distanc', 'cours guess god got hold right', 'captain vijaykanth comedi captain tv drunken', 'oh ho first time u use type word', 'k k pa lunch aha', 'come din c yup cut hair', 'move morphin', 'oh wow that gay firmwar updat help', 'meet call later', 'got hella ga money want go grand natur adventur galileo littl bit', 'everybodi fun even miss', 'saturday sunday holiday difficult', 'today voda number end select receiv reward match pleas call quot claim code standard rate appli', 'pleas call custom servic repres pm guarante cash prize', 'lol knew saw dollar store', 'bu love', 'ju finish blow hair u finish dinner alreadi', 'u need presnt alway bcz u cant mi love jeevithathil irulina neekunna prakasamanu sneham prakasam ennal prabha mn prabha love got dont mi', 'final came fix ceil', 'receiv understood n act upon', 'long fuckin showr', 'sorri call later meet', 'nvm go wear sport shoe anyway go late leh', 'good think could send pix would love see top bottom', 'call dad oredi', 'sunshin quiz win super soni dvd record cannam capit australia text mquiz b', 'how favourit person today r u workin hard sleep last nite nearli rang u', 'much got clean', 'sorri da gone mad mani pend work', 'wat time finish', 'glad talk']\n"
     ]
    }
   ],
   "source": [
    "print(corpus)"
   ]
  },
  {
   "cell_type": "markdown",
   "id": "ac0a5a34",
   "metadata": {},
   "source": [
    "## Creating the Bag of Words model"
   ]
  },
  {
   "cell_type": "code",
   "execution_count": 27,
   "id": "b9bd0ef7",
   "metadata": {},
   "outputs": [],
   "source": [
    "from sklearn.feature_extraction.text import CountVectorizer #convert text doc into matrix to token count\n",
    "cv=CountVectorizer(max_features=1200 )\n",
    "X=cv.fit_transform(corpus).toarray()\n",
    "y=dataset.iloc[:,-1].values"
   ]
  },
  {
   "cell_type": "code",
   "execution_count": 28,
   "id": "fa0cdfd8",
   "metadata": {},
   "outputs": [
    {
     "data": {
      "text/plain": [
       "array([0, 0, 0, 0, 1, 1, 0, 0, 0, 0, 0, 0, 0, 0, 0, 0, 0, 0, 0, 0, 0, 0,\n",
       "       0, 0, 0, 0, 0, 0, 0, 0, 1, 0, 0, 1, 0, 0, 0, 0, 0, 0, 0, 0, 0, 0,\n",
       "       1, 0, 1, 0, 0, 0, 0, 0, 0, 0, 0, 0, 0, 0, 0, 0, 0, 0, 0, 0, 0, 0,\n",
       "       0, 0, 0, 1, 0, 0, 0, 1, 0, 0, 0, 0, 1, 0, 0, 0, 0, 1, 0, 0, 0, 0,\n",
       "       1, 0, 0, 0, 0, 0, 0, 0, 0, 0, 0, 0, 0, 0, 1, 1, 1, 0, 0, 0, 1, 0,\n",
       "       1, 0, 0, 0, 1, 0, 0, 0, 0, 0, 0, 1, 0, 0, 0, 0, 0, 1, 0, 0, 0, 0,\n",
       "       0, 0, 0, 0, 0, 0, 0, 0, 0, 0, 0, 1, 0, 0, 0, 0, 0, 0, 0, 0, 0, 0,\n",
       "       0, 0, 0, 0, 0, 0, 0, 0, 0, 0, 0, 0, 0, 0, 0, 0, 0, 0, 0, 0, 0, 0,\n",
       "       0, 0, 0, 0, 0, 0, 0, 0, 0, 0, 0, 0, 0, 1, 0, 0, 1, 1, 0, 0, 0, 0,\n",
       "       0, 0, 1, 0, 1, 0, 1, 1, 0, 0, 0, 0, 0, 0, 0, 0, 0, 0, 0, 0, 0, 0,\n",
       "       0, 0, 0, 0, 0, 0, 0, 1, 0, 0, 0, 0, 0, 0, 0, 0, 0, 0, 0, 0, 0, 0,\n",
       "       0, 0, 0, 0, 0, 0, 0, 0, 0, 0, 0, 0, 0, 1, 0, 0, 0, 0, 0, 0, 0, 0,\n",
       "       0, 0, 0, 0, 0, 0, 0, 0, 0, 0, 0, 1, 0, 1, 0, 0, 0, 0, 0, 0, 1, 0,\n",
       "       0, 0, 0, 0, 0, 1, 0, 0, 0, 0, 0, 0, 0, 0, 1, 0, 0, 0, 0, 0, 0, 0,\n",
       "       0, 0, 0, 0, 0, 0, 0, 0, 0, 0, 0, 1, 0, 0, 0, 0, 0, 0, 0, 0, 0, 0,\n",
       "       0, 0, 1, 0, 0, 0, 1, 0, 0, 0, 1, 0, 0, 0, 0, 0, 0, 0, 0, 0, 0, 0,\n",
       "       0, 0, 1, 0, 0, 0, 0, 0, 0, 0, 0, 1, 0, 0, 0, 1, 1, 0, 0, 0, 1, 0,\n",
       "       0, 0, 0, 0, 1, 1, 0, 0, 0, 0, 0, 0, 0, 0, 0, 0, 1, 0, 0, 0, 0, 0,\n",
       "       0, 0, 0, 0, 0, 0, 0, 0, 1, 0, 0, 0, 0, 0, 0, 0, 0, 0, 0, 0, 0, 0,\n",
       "       0, 0, 0, 1, 0, 0, 0, 0, 0, 1, 0, 0, 0, 1, 0, 0, 0, 0, 0, 0, 0, 0,\n",
       "       0, 0, 0, 0, 0, 0, 0, 0, 1, 0, 0, 0, 0, 1, 0, 0, 1, 0, 1, 0, 0, 0,\n",
       "       0, 0, 0, 0, 1, 0, 0, 0, 1, 0, 0, 0, 0, 0, 0, 0, 0, 0, 0, 0, 0, 0,\n",
       "       0, 0, 0, 0, 0, 1, 0, 0, 1, 0, 0, 1, 0, 1, 0, 0, 1, 0, 0, 0, 0, 0,\n",
       "       0, 0, 1, 0, 0, 0, 0, 1, 0, 0, 0, 0, 0, 0, 0, 0, 0, 0, 1, 0, 1, 0,\n",
       "       0, 0, 1, 0, 0, 0, 0, 0, 0, 1, 0, 1, 1, 0, 0, 0, 0, 0, 0, 0, 0, 1,\n",
       "       0, 0, 0, 0, 0, 1, 0, 0, 0, 0, 0, 0, 0, 1, 0, 0, 0, 0, 0, 0, 0, 0,\n",
       "       0, 0, 0, 0, 1, 0, 0, 0, 0, 0, 1, 0, 0, 0, 0, 0, 0, 0, 0, 0, 0, 0,\n",
       "       0, 0, 0, 0, 0, 1, 1, 0, 1, 0, 0, 0, 0, 0, 0, 0, 0, 0, 0, 0, 1, 0,\n",
       "       0, 0, 1, 1, 0, 0, 0, 0, 0, 0, 0, 0, 0, 0, 0, 0, 0, 0, 0, 0, 1, 1,\n",
       "       0, 0, 0, 0, 0, 0, 0, 0, 0, 0, 0, 1, 0, 0, 0, 1, 0, 0, 0, 0, 0, 0,\n",
       "       0, 1, 0, 0, 1, 0, 1, 0, 0, 0, 0, 1, 0, 0, 0, 0, 0, 0, 0, 1, 0, 0,\n",
       "       0, 0, 0, 0, 0, 0, 1, 0, 1, 0, 0, 0, 0, 0, 0, 0, 0, 0, 0, 0, 0, 1,\n",
       "       1, 0, 0, 0, 0, 0, 0, 0, 0, 0, 0, 0, 0, 0, 0, 0, 0, 0, 1, 0, 0, 0,\n",
       "       1, 0, 0, 0, 0, 0, 0, 1, 0, 0, 0, 0, 0, 0, 0, 0, 0, 0, 1, 0, 1, 0,\n",
       "       0, 0, 0, 0, 0, 0, 0, 0, 0, 0, 0, 1, 0, 0, 0, 0, 0, 0, 0, 0, 0, 1,\n",
       "       1, 0, 0, 0, 0, 0, 0, 0, 0, 0, 0, 1, 0, 0, 0, 0, 0, 0, 0, 0, 0, 0,\n",
       "       0, 0, 0, 0, 0, 0, 0, 1, 0, 0, 0, 0, 0, 0, 0, 1, 1, 0, 0, 0, 0, 1,\n",
       "       0, 1, 0, 0, 0, 0, 0, 1, 0, 0, 0, 0, 0, 0, 0, 0, 0, 0, 1, 0, 0, 0,\n",
       "       0, 0, 0, 1, 0, 0, 1, 0, 0, 0, 0, 0, 0, 0, 0, 0, 0, 0, 0, 0, 0, 0,\n",
       "       0, 0, 0, 0, 0, 0, 0, 0, 1, 0, 0, 0, 0, 1, 0, 0, 0, 0, 0, 0, 0, 0,\n",
       "       0, 0, 0, 0, 0, 0, 0, 0, 0, 0, 0, 1, 0, 0, 1, 0, 0, 0, 0, 0, 0, 0,\n",
       "       0, 0, 0, 0, 0, 0, 0, 1, 0, 0, 0, 0, 0, 1, 0, 0, 0, 0, 1, 0, 0, 0,\n",
       "       1, 0, 0, 0, 0, 0, 0, 0, 0, 0, 0, 0, 0, 0, 1, 1, 0, 0, 0, 0, 0, 0,\n",
       "       0, 0, 0, 0, 0, 1, 0, 0, 0, 0, 0], dtype=int64)"
      ]
     },
     "execution_count": 28,
     "metadata": {},
     "output_type": "execute_result"
    }
   ],
   "source": [
    "y"
   ]
  },
  {
   "cell_type": "markdown",
   "id": "a963690b",
   "metadata": {},
   "source": [
    "## Splitting the dataset into the Training set and Test set"
   ]
  },
  {
   "cell_type": "code",
   "execution_count": 30,
   "id": "2e4e48ae",
   "metadata": {},
   "outputs": [],
   "source": [
    "from sklearn.model_selection import train_test_split\n",
    "X_train,X_test,y_train,y_test=train_test_split(X,y,test_size=0.2,random_state=0)"
   ]
  },
  {
   "cell_type": "markdown",
   "id": "397f027a",
   "metadata": {},
   "source": [
    "## Training the Naive Bayes model on the Training set"
   ]
  },
  {
   "cell_type": "code",
   "execution_count": 31,
   "id": "248adef8",
   "metadata": {},
   "outputs": [
    {
     "data": {
      "text/html": [
       "<style>#sk-container-id-1 {color: black;background-color: white;}#sk-container-id-1 pre{padding: 0;}#sk-container-id-1 div.sk-toggleable {background-color: white;}#sk-container-id-1 label.sk-toggleable__label {cursor: pointer;display: block;width: 100%;margin-bottom: 0;padding: 0.3em;box-sizing: border-box;text-align: center;}#sk-container-id-1 label.sk-toggleable__label-arrow:before {content: \"▸\";float: left;margin-right: 0.25em;color: #696969;}#sk-container-id-1 label.sk-toggleable__label-arrow:hover:before {color: black;}#sk-container-id-1 div.sk-estimator:hover label.sk-toggleable__label-arrow:before {color: black;}#sk-container-id-1 div.sk-toggleable__content {max-height: 0;max-width: 0;overflow: hidden;text-align: left;background-color: #f0f8ff;}#sk-container-id-1 div.sk-toggleable__content pre {margin: 0.2em;color: black;border-radius: 0.25em;background-color: #f0f8ff;}#sk-container-id-1 input.sk-toggleable__control:checked~div.sk-toggleable__content {max-height: 200px;max-width: 100%;overflow: auto;}#sk-container-id-1 input.sk-toggleable__control:checked~label.sk-toggleable__label-arrow:before {content: \"▾\";}#sk-container-id-1 div.sk-estimator input.sk-toggleable__control:checked~label.sk-toggleable__label {background-color: #d4ebff;}#sk-container-id-1 div.sk-label input.sk-toggleable__control:checked~label.sk-toggleable__label {background-color: #d4ebff;}#sk-container-id-1 input.sk-hidden--visually {border: 0;clip: rect(1px 1px 1px 1px);clip: rect(1px, 1px, 1px, 1px);height: 1px;margin: -1px;overflow: hidden;padding: 0;position: absolute;width: 1px;}#sk-container-id-1 div.sk-estimator {font-family: monospace;background-color: #f0f8ff;border: 1px dotted black;border-radius: 0.25em;box-sizing: border-box;margin-bottom: 0.5em;}#sk-container-id-1 div.sk-estimator:hover {background-color: #d4ebff;}#sk-container-id-1 div.sk-parallel-item::after {content: \"\";width: 100%;border-bottom: 1px solid gray;flex-grow: 1;}#sk-container-id-1 div.sk-label:hover label.sk-toggleable__label {background-color: #d4ebff;}#sk-container-id-1 div.sk-serial::before {content: \"\";position: absolute;border-left: 1px solid gray;box-sizing: border-box;top: 0;bottom: 0;left: 50%;z-index: 0;}#sk-container-id-1 div.sk-serial {display: flex;flex-direction: column;align-items: center;background-color: white;padding-right: 0.2em;padding-left: 0.2em;position: relative;}#sk-container-id-1 div.sk-item {position: relative;z-index: 1;}#sk-container-id-1 div.sk-parallel {display: flex;align-items: stretch;justify-content: center;background-color: white;position: relative;}#sk-container-id-1 div.sk-item::before, #sk-container-id-1 div.sk-parallel-item::before {content: \"\";position: absolute;border-left: 1px solid gray;box-sizing: border-box;top: 0;bottom: 0;left: 50%;z-index: -1;}#sk-container-id-1 div.sk-parallel-item {display: flex;flex-direction: column;z-index: 1;position: relative;background-color: white;}#sk-container-id-1 div.sk-parallel-item:first-child::after {align-self: flex-end;width: 50%;}#sk-container-id-1 div.sk-parallel-item:last-child::after {align-self: flex-start;width: 50%;}#sk-container-id-1 div.sk-parallel-item:only-child::after {width: 0;}#sk-container-id-1 div.sk-dashed-wrapped {border: 1px dashed gray;margin: 0 0.4em 0.5em 0.4em;box-sizing: border-box;padding-bottom: 0.4em;background-color: white;}#sk-container-id-1 div.sk-label label {font-family: monospace;font-weight: bold;display: inline-block;line-height: 1.2em;}#sk-container-id-1 div.sk-label-container {text-align: center;}#sk-container-id-1 div.sk-container {/* jupyter's `normalize.less` sets `[hidden] { display: none; }` but bootstrap.min.css set `[hidden] { display: none !important; }` so we also need the `!important` here to be able to override the default hidden behavior on the sphinx rendered scikit-learn.org. See: https://github.com/scikit-learn/scikit-learn/issues/21755 */display: inline-block !important;position: relative;}#sk-container-id-1 div.sk-text-repr-fallback {display: none;}</style><div id=\"sk-container-id-1\" class=\"sk-top-container\"><div class=\"sk-text-repr-fallback\"><pre>GaussianNB()</pre><b>In a Jupyter environment, please rerun this cell to show the HTML representation or trust the notebook. <br />On GitHub, the HTML representation is unable to render, please try loading this page with nbviewer.org.</b></div><div class=\"sk-container\" hidden><div class=\"sk-item\"><div class=\"sk-estimator sk-toggleable\"><input class=\"sk-toggleable__control sk-hidden--visually\" id=\"sk-estimator-id-1\" type=\"checkbox\" checked><label for=\"sk-estimator-id-1\" class=\"sk-toggleable__label sk-toggleable__label-arrow\">GaussianNB</label><div class=\"sk-toggleable__content\"><pre>GaussianNB()</pre></div></div></div></div></div>"
      ],
      "text/plain": [
       "GaussianNB()"
      ]
     },
     "execution_count": 31,
     "metadata": {},
     "output_type": "execute_result"
    }
   ],
   "source": [
    "from sklearn.naive_bayes import GaussianNB  # it did training on the basis of historical data\n",
    "clasifier=GaussianNB()\n",
    "clasifier.fit(X_train,y_train)"
   ]
  },
  {
   "cell_type": "markdown",
   "id": "01c92567",
   "metadata": {},
   "source": [
    "## Predicting the Test set results"
   ]
  },
  {
   "cell_type": "code",
   "execution_count": 34,
   "id": "b6cd01c6",
   "metadata": {},
   "outputs": [
    {
     "name": "stdout",
     "output_type": "stream",
     "text": [
      "[[0 0]\n",
      " [0 0]\n",
      " [0 0]\n",
      " [1 1]\n",
      " [0 0]\n",
      " [0 0]\n",
      " [0 1]\n",
      " [1 1]\n",
      " [0 0]\n",
      " [0 0]\n",
      " [0 0]\n",
      " [0 0]\n",
      " [0 0]\n",
      " [0 0]\n",
      " [1 1]\n",
      " [0 0]\n",
      " [0 0]\n",
      " [0 0]\n",
      " [0 1]\n",
      " [0 0]\n",
      " [0 0]\n",
      " [0 0]\n",
      " [0 0]\n",
      " [0 0]\n",
      " [1 1]\n",
      " [0 0]\n",
      " [0 0]\n",
      " [0 0]\n",
      " [0 0]\n",
      " [0 0]\n",
      " [0 0]\n",
      " [1 1]\n",
      " [0 0]\n",
      " [0 0]\n",
      " [0 0]\n",
      " [0 0]\n",
      " [0 0]\n",
      " [1 0]\n",
      " [0 0]\n",
      " [0 0]\n",
      " [0 1]\n",
      " [0 1]\n",
      " [0 0]\n",
      " [0 0]\n",
      " [0 0]\n",
      " [0 0]\n",
      " [0 0]\n",
      " [0 0]\n",
      " [1 1]\n",
      " [0 0]\n",
      " [1 1]\n",
      " [0 0]\n",
      " [0 1]\n",
      " [0 0]\n",
      " [0 0]\n",
      " [0 0]\n",
      " [0 0]\n",
      " [0 0]\n",
      " [0 0]\n",
      " [1 1]\n",
      " [0 0]\n",
      " [0 0]\n",
      " [0 0]\n",
      " [0 0]\n",
      " [0 0]\n",
      " [0 0]\n",
      " [1 1]\n",
      " [0 0]\n",
      " [0 0]\n",
      " [0 0]\n",
      " [0 0]\n",
      " [0 0]\n",
      " [0 0]\n",
      " [0 1]\n",
      " [0 1]\n",
      " [0 0]\n",
      " [0 0]\n",
      " [1 0]\n",
      " [0 0]\n",
      " [0 0]\n",
      " [0 0]\n",
      " [0 0]\n",
      " [0 0]\n",
      " [0 0]\n",
      " [0 0]\n",
      " [0 0]\n",
      " [0 0]\n",
      " [0 0]\n",
      " [0 0]\n",
      " [0 0]\n",
      " [0 0]\n",
      " [0 0]\n",
      " [0 0]\n",
      " [0 0]\n",
      " [0 0]\n",
      " [0 0]\n",
      " [0 1]\n",
      " [1 0]\n",
      " [0 0]\n",
      " [0 0]\n",
      " [1 1]\n",
      " [0 0]\n",
      " [0 0]\n",
      " [0 0]\n",
      " [0 0]\n",
      " [0 0]\n",
      " [0 0]\n",
      " [0 0]\n",
      " [1 1]\n",
      " [1 0]\n",
      " [0 0]\n",
      " [0 0]\n",
      " [1 0]\n",
      " [0 0]\n",
      " [1 1]\n",
      " [0 0]\n",
      " [1 0]\n",
      " [0 0]\n",
      " [0 0]\n",
      " [0 0]\n",
      " [1 0]\n",
      " [0 0]\n",
      " [0 0]\n",
      " [0 0]\n",
      " [0 1]\n",
      " [0 0]\n",
      " [0 0]\n",
      " [0 0]\n",
      " [1 1]\n",
      " [0 0]\n",
      " [0 0]\n",
      " [0 0]\n",
      " [0 0]\n",
      " [0 0]\n",
      " [1 0]\n",
      " [0 0]\n",
      " [0 0]\n",
      " [0 0]\n",
      " [0 0]\n",
      " [0 0]\n",
      " [0 0]\n",
      " [0 0]\n",
      " [0 0]\n",
      " [0 0]\n",
      " [0 0]\n",
      " [1 0]\n",
      " [0 0]\n",
      " [0 0]\n",
      " [0 1]\n",
      " [0 0]\n",
      " [0 0]\n",
      " [1 0]\n",
      " [1 1]\n",
      " [0 0]\n",
      " [0 0]\n",
      " [1 1]\n",
      " [0 0]\n",
      " [0 0]\n",
      " [0 0]\n",
      " [0 0]\n",
      " [0 0]\n",
      " [0 0]\n",
      " [0 0]\n",
      " [0 1]\n",
      " [1 1]\n",
      " [0 0]\n",
      " [0 0]\n",
      " [0 0]\n",
      " [0 0]\n",
      " [0 0]\n",
      " [1 1]\n",
      " [1 0]\n",
      " [0 0]\n",
      " [1 1]\n",
      " [0 0]\n",
      " [0 0]\n",
      " [0 0]\n",
      " [1 0]\n",
      " [0 0]\n",
      " [0 0]\n",
      " [0 0]\n",
      " [1 1]\n",
      " [0 0]\n",
      " [0 0]\n",
      " [0 0]\n",
      " [0 0]\n",
      " [0 0]\n",
      " [0 0]\n",
      " [0 0]\n",
      " [0 0]\n",
      " [0 0]\n",
      " [0 0]]\n"
     ]
    }
   ],
   "source": [
    "y_pred=clasifier.predict(X_test)\n",
    "print(np.concatenate((y_pred.reshape(len(y_pred),1),y_test.reshape(len(y_test),1)),1))"
   ]
  },
  {
   "cell_type": "markdown",
   "id": "4cbbc3eb",
   "metadata": {},
   "source": [
    "## Making the Confusion Matrix"
   ]
  },
  {
   "cell_type": "code",
   "execution_count": 42,
   "id": "b425ade2",
   "metadata": {},
   "outputs": [
    {
     "name": "stdout",
     "output_type": "stream",
     "text": [
      "[[150  12]\n",
      " [ 11  19]]\n"
     ]
    }
   ],
   "source": [
    "from sklearn.metrics import confusion_matrix,accuracy_score\n",
    "cm=confusion_matrix(y_test,y_pred)\n",
    "print(cm)"
   ]
  },
  {
   "cell_type": "code",
   "execution_count": 46,
   "id": "b86ca61b",
   "metadata": {},
   "outputs": [
    {
     "name": "stdout",
     "output_type": "stream",
     "text": [
      "accuracy is: 0.8802083333333334\n"
     ]
    }
   ],
   "source": [
    "accuracy=accuracy_score(y_test,y_pred)\n",
    "print(\"accuracy is:\",accuracy)"
   ]
  },
  {
   "cell_type": "code",
   "execution_count": 45,
   "id": "efd62520",
   "metadata": {},
   "outputs": [
    {
     "data": {
      "text/plain": [
       "0.8802083333333334"
      ]
     },
     "execution_count": 45,
     "metadata": {},
     "output_type": "execute_result"
    }
   ],
   "source": [
    "accuracy"
   ]
  },
  {
   "cell_type": "code",
   "execution_count": null,
   "id": "6116c854",
   "metadata": {},
   "outputs": [],
   "source": []
  }
 ],
 "metadata": {
  "kernelspec": {
   "display_name": "Python 3 (ipykernel)",
   "language": "python",
   "name": "python3"
  },
  "language_info": {
   "codemirror_mode": {
    "name": "ipython",
    "version": 3
   },
   "file_extension": ".py",
   "mimetype": "text/x-python",
   "name": "python",
   "nbconvert_exporter": "python",
   "pygments_lexer": "ipython3",
   "version": "3.9.12"
  }
 },
 "nbformat": 4,
 "nbformat_minor": 5
}
